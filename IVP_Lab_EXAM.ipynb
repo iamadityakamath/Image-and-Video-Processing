{
  "nbformat": 4,
  "nbformat_minor": 0,
  "metadata": {
    "colab": {
      "name": "IVP Lab EXAM.ipynb",
      "provenance": [],
      "collapsed_sections": []
    },
    "kernelspec": {
      "name": "python3",
      "display_name": "Python 3"
    },
    "language_info": {
      "name": "python"
    }
  },
  "cells": [
    {
      "cell_type": "markdown",
      "metadata": {
        "id": "7ud8OyhdmcwQ"
      },
      "source": [
        "\n",
        "**IVP LAB EXAM**"
      ]
    },
    {
      "cell_type": "markdown",
      "metadata": {
        "id": "-4iWNWWxmRBA"
      },
      "source": [
        "Name: Aditya Kamath\n",
        "\n",
        "Roll no.: C021 \n",
        "\n",
        "Semester: VI \n",
        "\n",
        "Program: B.Tech\n",
        "\n",
        "Branch: EXTC\n",
        "\n",
        "Date of performance: 9/4/21\n",
        "\n",
        "Link for the file:\n",
        "https://colab.research.google.com/drive/1Odi-jlXrU3Ep8MgWsQFmkxy9CAdB43G4?usp=sharing"
      ]
    },
    {
      "cell_type": "code",
      "metadata": {
        "id": "28ZTIWuemOkM"
      },
      "source": [
        "#Importing all The Packages we used in this Experiment\n",
        "import cv2\n",
        "import numpy as np"
      ],
      "execution_count": null,
      "outputs": []
    },
    {
      "cell_type": "markdown",
      "metadata": {
        "id": "svL-3G3W29HQ"
      },
      "source": [
        "# Task 2"
      ]
    },
    {
      "cell_type": "code",
      "metadata": {
        "colab": {
          "base_uri": "https://localhost:8080/"
        },
        "id": "rQ7zfmQU2fqa",
        "outputId": "7e558af3-a03d-4df3-8b1f-9daaa8c5354b"
      },
      "source": [
        "# Create 8x8 random matrix\n",
        "x = 8\n",
        "y = 8\n",
        "A = np.random.randint(0,16,size=(x,y))\n",
        "print(A)"
      ],
      "execution_count": null,
      "outputs": [
        {
          "output_type": "stream",
          "text": [
            "[[ 7 10  9  2 14 11  8  1]\n",
            " [ 5  0  6  9  3 11 15  8]\n",
            " [ 1  7 12  1  3 15  1 11]\n",
            " [11  9  1 12  2  9  1 11]\n",
            " [ 6  6  6  8  4 12  1  3]\n",
            " [13  7 10 12  6  3 14  1]\n",
            " [ 0  6  2 10 13  0 10  0]\n",
            " [15  9  4 13 13  5 13 11]]\n"
          ],
          "name": "stdout"
        }
      ]
    },
    {
      "cell_type": "code",
      "metadata": {
        "colab": {
          "base_uri": "https://localhost:8080/"
        },
        "id": "bvmzg1G-3J9p",
        "outputId": "d87fbf4d-0266-45e8-d962-a55e45fd32b9"
      },
      "source": [
        "# Resize it to 6x6\n",
        "A.resize(6,6)\n",
        "print(A)\n",
        "m,n = A.shape"
      ],
      "execution_count": null,
      "outputs": [
        {
          "output_type": "stream",
          "text": [
            "[[ 7 10  9  2 14 11]\n",
            " [ 8  1  5  0  6  9]\n",
            " [ 3 11 15  8  1  7]\n",
            " [12  1  3 15  1 11]\n",
            " [11  9  1 12  2  9]\n",
            " [ 1 11  6  6  6  8]]\n"
          ],
          "name": "stdout"
        }
      ]
    },
    {
      "cell_type": "code",
      "metadata": {
        "colab": {
          "base_uri": "https://localhost:8080/"
        },
        "id": "8mkUkeLu3tJF",
        "outputId": "facd3f63-3f08-4a40-d49c-98330dede698"
      },
      "source": [
        "# Apply Thresholding\n",
        "t = 7    # int(input(\"Enter Threshold value: \"))\n",
        "\n",
        "B= np.zeros((m,n), dtype= np.int) \n",
        "for i in range(m):\n",
        "  for j in range(n):\n",
        "    if A[i,j]<t:\n",
        "      B[i,j] = 1\n",
        "    else:\n",
        "      B[i,j] = 0\n",
        "\n",
        "print(B)"
      ],
      "execution_count": null,
      "outputs": [
        {
          "output_type": "stream",
          "text": [
            "[[0 0 0 1 0 0]\n",
            " [0 1 1 1 1 0]\n",
            " [1 0 0 0 1 0]\n",
            " [0 1 1 0 1 0]\n",
            " [0 0 1 0 1 0]\n",
            " [1 0 1 1 1 0]]\n"
          ],
          "name": "stdout"
        }
      ]
    },
    {
      "cell_type": "markdown",
      "metadata": {
        "id": "laPQgVT-xuc5"
      },
      "source": [
        "# Task 3"
      ]
    },
    {
      "cell_type": "code",
      "metadata": {
        "colab": {
          "base_uri": "https://localhost:8080/"
        },
        "id": "DiQVY9NzmoVB",
        "outputId": "db68d1fd-9d65-4738-ed86-8c1f4d904776"
      },
      "source": [
        "# Create random 6x6 matrix\n",
        "x = 6\n",
        "y = 6\n",
        "A = np.random.randint(0,16,size=(x,y))\n",
        "print(A)"
      ],
      "execution_count": null,
      "outputs": [
        {
          "output_type": "stream",
          "text": [
            "[[ 7  7  9  4  1  5]\n",
            " [10 12  3  3  5 11]\n",
            " [ 4  3 10  9 10 13]\n",
            " [11  4  1  0  2 10]\n",
            " [ 7  2  7  9  3  3]\n",
            " [ 1 10 12 14 11 10]]\n"
          ],
          "name": "stdout"
        }
      ]
    },
    {
      "cell_type": "code",
      "metadata": {
        "colab": {
          "base_uri": "https://localhost:8080/"
        },
        "id": "Cw-jC1ObyOIj",
        "outputId": "e822c252-849e-4fc9-9bf1-9dbc8c097b62"
      },
      "source": [
        "# Downsample by factor of 3\n",
        "f = 3  \n",
        "\n",
        "B =np.zeros((x//f,y//f),dtype=np.int)\n",
        "\n",
        "for i in range(0,x,f):\n",
        "  for j in range(0,y,f):\n",
        "    try:\n",
        "      B[i//f][j//f] = A[i][j]\n",
        "    except IndexError:\n",
        "      pass\n",
        "\n",
        "x1,y1 = B.shape\n",
        "print(x1, y1)\n",
        "print(B)"
      ],
      "execution_count": null,
      "outputs": [
        {
          "output_type": "stream",
          "text": [
            "2 2\n",
            "[[ 7  4]\n",
            " [11  0]]\n"
          ],
          "name": "stdout"
        }
      ]
    },
    {
      "cell_type": "code",
      "metadata": {
        "colab": {
          "base_uri": "https://localhost:8080/"
        },
        "id": "W5iVjE3IzA4q",
        "outputId": "82818f79-0fc6-46de-9f40-c43e379d370f"
      },
      "source": [
        "f = 4\n",
        "C=np.zeros((8,8),dtype=np.int)  # 2x2 upscaled will be 8x8 matrix\n",
        "\n",
        "for i in range(0, 8-1, f):\n",
        "  for j in range(0, 8-1, f):\n",
        "    C[i,j]=B[i//f][j//f]\n",
        "\n",
        "\n",
        "print(C)\n",
        "m,n = C.shape"
      ],
      "execution_count": null,
      "outputs": [
        {
          "output_type": "stream",
          "text": [
            "[[ 7  0  0  0  4  0  0  0]\n",
            " [ 0  0  0  0  0  0  0  0]\n",
            " [ 0  0  0  0  0  0  0  0]\n",
            " [ 0  0  0  0  0  0  0  0]\n",
            " [11  0  0  0  0  0  0  0]\n",
            " [ 0  0  0  0  0  0  0  0]\n",
            " [ 0  0  0  0  0  0  0  0]\n",
            " [ 0  0  0  0  0  0  0  0]]\n"
          ],
          "name": "stdout"
        }
      ]
    },
    {
      "cell_type": "code",
      "metadata": {
        "colab": {
          "base_uri": "https://localhost:8080/"
        },
        "id": "6Q2TwMqv6k-O",
        "outputId": "587e15e5-a29e-446f-a239-8c3207edd408"
      },
      "source": [
        "#Replication Rows\n",
        "for i in range(1, m-1, f):\n",
        "  for j in range(0, n-1):\n",
        "    C[i,j]=C[i-1,j]\n",
        "\n",
        "#Replication Columns\n",
        "for i in range(0, m-1):\n",
        "  for j in range(1, n-1, f):\n",
        "    C[i,j]=C[i,j-1]\n",
        "\n",
        "print(C)\n",
        "print(C.shape)"
      ],
      "execution_count": null,
      "outputs": [
        {
          "output_type": "stream",
          "text": [
            "[[ 7  7  0  0  4  4  0  0]\n",
            " [ 7  7  0  0  4  4  0  0]\n",
            " [ 0  0  0  0  0  0  0  0]\n",
            " [ 0  0  0  0  0  0  0  0]\n",
            " [11 11  0  0  0  0  0  0]\n",
            " [11 11  0  0  0  0  0  0]\n",
            " [ 0  0  0  0  0  0  0  0]\n",
            " [ 0  0  0  0  0  0  0  0]]\n",
            "(8, 8)\n"
          ],
          "name": "stdout"
        }
      ]
    }
  ]
}